{
 "cells": [
  {
   "cell_type": "markdown",
   "metadata": {},
   "source": [
    "# Parsing a CSV WITHOUT LOOPS\n",
    "\n",
    "### Your solution must use indexing, not loops."
   ]
  },
  {
   "cell_type": "markdown",
   "metadata": {},
   "source": [
    "Csv files are pretty easy to import into Python. There are several libraries and modules that will handle this for you. But, let's take a look at how to parse strings of csv data from scratch.\n",
    "\n",
    "CSV (comma separated value) files use commas to separate values (columns) on each line. Every line then ends in a new line character, which looks like this in Python: \"\\n\"\n",
    "\n",
    "TSV files are just like CSV's, except they use a tab (\\t') instead of a comma to separate the values.\n",
    "\n",
    "Here is a string that represents/simulates an uploaded tsv file as raw text (a single string, instead of an array). Run the cell to create the string variable, \"data\"."
   ]
  },
  {
   "cell_type": "code",
   "execution_count": 1,
   "metadata": {},
   "outputs": [],
   "source": [
    "# from data.gov\n",
    "# https://catalog.data.gov/dataset/demographic-statistics-by-zip-code-acfc9\n",
    "# https://data.cityofnewyork.us/api/views/kku6-nxdu/rows.csv?accessType=DOWNLOAD\n",
    "\n",
    "data = \"\"\"\n",
    "Zip Code\\tTotal Population\\tMedian Age\\tTotal Males\\tTotal Females\\tTotal Households\\tAverage Household Size\n",
    "90001\\t57110\\t26.6\\t28468\\t28642\\t12971\\t4.4\n",
    "90002\\t51223\\t25.5\\t24876\\t26347\\t11731\\t4.36\n",
    "90003\\t66266\\t26.3\\t32631\\t33635\\t15642\\t4.22\n",
    "\"\"\".strip()"
   ]
  },
  {
   "cell_type": "markdown",
   "metadata": {},
   "source": [
    "# 1.\n",
    "Using the 'data' variable, use a combination of the string.split() method, indexing, and (if needed) splicing to create the following variables."
   ]
  },
  {
   "cell_type": "markdown",
   "metadata": {},
   "source": [
    "### HINTS\n",
    "* think about how to extract the first row (the column names, up to the first newline character ('\\n').\n",
    "* then, how to split up the individual cells (column names) on that line, which are separated by tabs ('\\t')"
   ]
  },
  {
   "cell_type": "code",
   "execution_count": 3,
   "metadata": {
    "scrolled": true
   },
   "outputs": [
    {
     "data": {
      "text/plain": [
       "['Zip Code',\n",
       " 'Total Population',\n",
       " 'Median Age',\n",
       " 'Total Males',\n",
       " 'Total Females',\n",
       " 'Total Households',\n",
       " 'Average Household Size']"
      ]
     },
     "execution_count": 3,
     "metadata": {},
     "output_type": "execute_result"
    }
   ],
   "source": [
    "## Student Answer Start\n",
    "\n",
    "## Student Answer End\n",
    "\n",
    "# your solution should look like the output below:"
   ]
  },
  {
   "cell_type": "markdown",
   "metadata": {},
   "source": [
    "# 2.\n",
    "\n",
    "Now create a list of lists that contains all the data. The first element of your list should be the list you created above. The second element should be a list containing the values/data from row 2. Etc.\n",
    "\n",
    "### HINTS\n",
    "* think about how to separate the lines, which are separated by newline characters ('\\n'), \n",
    "* then how to split up the individual cells on each line, which are separated by commans (',')\n",
    "* your solution should look like the output below:"
   ]
  },
  {
   "cell_type": "code",
   "execution_count": 6,
   "metadata": {},
   "outputs": [
    {
     "data": {
      "text/plain": [
       "[['Zip Code',\n",
       "  'Total Population',\n",
       "  'Median Age',\n",
       "  'Total Males',\n",
       "  'Total Females',\n",
       "  'Total Households',\n",
       "  'Average Household Size'],\n",
       " ['90001', '57110', '26.6', '28468', '28642', '12971', '4.4'],\n",
       " ['90002', '51223', '25.5', '24876', '26347', '11731', '4.36'],\n",
       " ['90003', '66266', '26.3', '32631', '33635', '15642', '4.22']]"
      ]
     },
     "execution_count": 6,
     "metadata": {},
     "output_type": "execute_result"
    }
   ],
   "source": [
    "## Student Answer Start\n",
    "\n",
    "## Student Answer End\n",
    "\n",
    "# your solution should look like the output below:"
   ]
  },
  {
   "cell_type": "markdown",
   "metadata": {},
   "source": [
    "# 3.\n",
    "Now create a list of lists, like above, but exclude the column names."
   ]
  },
  {
   "cell_type": "code",
   "execution_count": 6,
   "metadata": {},
   "outputs": [
    {
     "data": {
      "text/plain": [
       "[['90001', '57110', '26.6', '28468', '28642', '12971', '4.4'],\n",
       " ['90002', '51223', '25.5', '24876', '26347', '11731', '4.36'],\n",
       " ['90003', '66266', '26.3', '32631', '33635', '15642', '4.22']]"
      ]
     },
     "execution_count": 6,
     "metadata": {},
     "output_type": "execute_result"
    }
   ],
   "source": [
    "## Student Answer Start\n",
    "\n",
    "## Student Answer End\n",
    "\n",
    "# your solution should look like the output below:"
   ]
  },
  {
   "cell_type": "code",
   "execution_count": null,
   "metadata": {},
   "outputs": [],
   "source": []
  }
 ],
 "metadata": {
  "kernelspec": {
   "display_name": "Python 3 (ipykernel)",
   "language": "python",
   "name": "python3"
  },
  "language_info": {
   "codemirror_mode": {
    "name": "ipython",
    "version": 3
   },
   "file_extension": ".py",
   "mimetype": "text/x-python",
   "name": "python",
   "nbconvert_exporter": "python",
   "pygments_lexer": "ipython3",
   "version": "3.9.12"
  }
 },
 "nbformat": 4,
 "nbformat_minor": 2
}
