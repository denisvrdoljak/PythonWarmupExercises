{
 "cells": [
  {
   "cell_type": "markdown",
   "id": "319f4dc3",
   "metadata": {},
   "source": [
    "# Working with Functions and Lists"
   ]
  },
  {
   "cell_type": "markdown",
   "id": "f63cc649",
   "metadata": {},
   "source": [
    "Write a function, listcopyappend(), which takes in 1 argument (a list), and returns a new list (a copy of the original list), with \"Hello World!\" appended to the end of the list."
   ]
  },
  {
   "cell_type": "code",
   "execution_count": 2,
   "id": "0d937af9",
   "metadata": {},
   "outputs": [
    {
     "data": {
      "text/plain": [
       "(False, True)"
      ]
     },
     "execution_count": 2,
     "metadata": {},
     "output_type": "execute_result"
    }
   ],
   "source": [
    "\n",
    "## Student Answer Start\n",
    "\n",
    "\n",
    "## Student Answer End\n",
    "\n",
    "# your solution should return the output below:\n",
    "\n",
    "mylist = [1,2,3,4]\n",
    "returnedlist = listcopyappend(mylist)\n",
    "returnedlist is mylist, returnedlist == mylist + ['Hello World']"
   ]
  },
  {
   "cell_type": "code",
   "execution_count": null,
   "id": "6bb4045e",
   "metadata": {},
   "outputs": [],
   "source": []
  }
 ],
 "metadata": {
  "kernelspec": {
   "display_name": "Python 3 (ipykernel)",
   "language": "python",
   "name": "python3"
  },
  "language_info": {
   "codemirror_mode": {
    "name": "ipython",
    "version": 3
   },
   "file_extension": ".py",
   "mimetype": "text/x-python",
   "name": "python",
   "nbconvert_exporter": "python",
   "pygments_lexer": "ipython3",
   "version": "3.9.12"
  }
 },
 "nbformat": 4,
 "nbformat_minor": 5
}
